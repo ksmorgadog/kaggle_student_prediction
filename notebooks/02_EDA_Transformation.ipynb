{
 "cells": [
  {
   "cell_type": "code",
   "execution_count": 1,
   "metadata": {},
   "outputs": [],
   "source": [
    "import pandas as pd\n",
    "import numpy as np"
   ]
  },
  {
   "cell_type": "code",
   "execution_count": 2,
   "metadata": {},
   "outputs": [],
   "source": [
    "df=pd.read_parquet(\"..\\data\\processed\\output.parquet\")"
   ]
  },
  {
   "cell_type": "code",
   "execution_count": 3,
   "metadata": {},
   "outputs": [
    {
     "data": {
      "text/html": [
       "<div>\n",
       "<style scoped>\n",
       "    .dataframe tbody tr th:only-of-type {\n",
       "        vertical-align: middle;\n",
       "    }\n",
       "\n",
       "    .dataframe tbody tr th {\n",
       "        vertical-align: top;\n",
       "    }\n",
       "\n",
       "    .dataframe thead th {\n",
       "        text-align: right;\n",
       "    }\n",
       "</style>\n",
       "<table border=\"1\" class=\"dataframe\">\n",
       "  <thead>\n",
       "    <tr style=\"text-align: right;\">\n",
       "      <th></th>\n",
       "      <th>session_id</th>\n",
       "      <th>index</th>\n",
       "      <th>elapsed_time</th>\n",
       "      <th>event_name</th>\n",
       "      <th>name</th>\n",
       "      <th>level</th>\n",
       "      <th>page</th>\n",
       "      <th>room_coor_x</th>\n",
       "      <th>room_coor_y</th>\n",
       "      <th>screen_coor_x</th>\n",
       "      <th>screen_coor_y</th>\n",
       "      <th>hover_duration</th>\n",
       "      <th>text</th>\n",
       "      <th>fqid</th>\n",
       "      <th>room_fqid</th>\n",
       "      <th>text_fqid</th>\n",
       "      <th>fullscreen</th>\n",
       "      <th>hq</th>\n",
       "      <th>music</th>\n",
       "      <th>level_group</th>\n",
       "    </tr>\n",
       "  </thead>\n",
       "  <tbody>\n",
       "    <tr>\n",
       "      <th>0</th>\n",
       "      <td>20090312431273200</td>\n",
       "      <td>0</td>\n",
       "      <td>0</td>\n",
       "      <td>cutscene_click</td>\n",
       "      <td>basic</td>\n",
       "      <td>0</td>\n",
       "      <td>NaN</td>\n",
       "      <td>-413.991405</td>\n",
       "      <td>-159.314686</td>\n",
       "      <td>380.0</td>\n",
       "      <td>494.0</td>\n",
       "      <td>NaN</td>\n",
       "      <td>undefined</td>\n",
       "      <td>intro</td>\n",
       "      <td>tunic.historicalsociety.closet</td>\n",
       "      <td>tunic.historicalsociety.closet.intro</td>\n",
       "      <td>NaN</td>\n",
       "      <td>NaN</td>\n",
       "      <td>NaN</td>\n",
       "      <td>0-4</td>\n",
       "    </tr>\n",
       "    <tr>\n",
       "      <th>1</th>\n",
       "      <td>20090312431273200</td>\n",
       "      <td>1</td>\n",
       "      <td>1323</td>\n",
       "      <td>person_click</td>\n",
       "      <td>basic</td>\n",
       "      <td>0</td>\n",
       "      <td>NaN</td>\n",
       "      <td>-413.991405</td>\n",
       "      <td>-159.314686</td>\n",
       "      <td>380.0</td>\n",
       "      <td>494.0</td>\n",
       "      <td>NaN</td>\n",
       "      <td>Whatcha doing over there, Jo?</td>\n",
       "      <td>gramps</td>\n",
       "      <td>tunic.historicalsociety.closet</td>\n",
       "      <td>tunic.historicalsociety.closet.gramps.intro_0_...</td>\n",
       "      <td>NaN</td>\n",
       "      <td>NaN</td>\n",
       "      <td>NaN</td>\n",
       "      <td>0-4</td>\n",
       "    </tr>\n",
       "    <tr>\n",
       "      <th>2</th>\n",
       "      <td>20090312431273200</td>\n",
       "      <td>2</td>\n",
       "      <td>831</td>\n",
       "      <td>person_click</td>\n",
       "      <td>basic</td>\n",
       "      <td>0</td>\n",
       "      <td>NaN</td>\n",
       "      <td>-413.991405</td>\n",
       "      <td>-159.314686</td>\n",
       "      <td>380.0</td>\n",
       "      <td>494.0</td>\n",
       "      <td>NaN</td>\n",
       "      <td>Just talking to Teddy.</td>\n",
       "      <td>gramps</td>\n",
       "      <td>tunic.historicalsociety.closet</td>\n",
       "      <td>tunic.historicalsociety.closet.gramps.intro_0_...</td>\n",
       "      <td>NaN</td>\n",
       "      <td>NaN</td>\n",
       "      <td>NaN</td>\n",
       "      <td>0-4</td>\n",
       "    </tr>\n",
       "    <tr>\n",
       "      <th>3</th>\n",
       "      <td>20090312431273200</td>\n",
       "      <td>3</td>\n",
       "      <td>1147</td>\n",
       "      <td>person_click</td>\n",
       "      <td>basic</td>\n",
       "      <td>0</td>\n",
       "      <td>NaN</td>\n",
       "      <td>-413.991405</td>\n",
       "      <td>-159.314686</td>\n",
       "      <td>380.0</td>\n",
       "      <td>494.0</td>\n",
       "      <td>NaN</td>\n",
       "      <td>I gotta run to my meeting!</td>\n",
       "      <td>gramps</td>\n",
       "      <td>tunic.historicalsociety.closet</td>\n",
       "      <td>tunic.historicalsociety.closet.gramps.intro_0_...</td>\n",
       "      <td>NaN</td>\n",
       "      <td>NaN</td>\n",
       "      <td>NaN</td>\n",
       "      <td>0-4</td>\n",
       "    </tr>\n",
       "    <tr>\n",
       "      <th>4</th>\n",
       "      <td>20090312431273200</td>\n",
       "      <td>4</td>\n",
       "      <td>1863</td>\n",
       "      <td>person_click</td>\n",
       "      <td>basic</td>\n",
       "      <td>0</td>\n",
       "      <td>NaN</td>\n",
       "      <td>-412.991405</td>\n",
       "      <td>-159.314686</td>\n",
       "      <td>381.0</td>\n",
       "      <td>494.0</td>\n",
       "      <td>NaN</td>\n",
       "      <td>Can I come, Gramps?</td>\n",
       "      <td>gramps</td>\n",
       "      <td>tunic.historicalsociety.closet</td>\n",
       "      <td>tunic.historicalsociety.closet.gramps.intro_0_...</td>\n",
       "      <td>NaN</td>\n",
       "      <td>NaN</td>\n",
       "      <td>NaN</td>\n",
       "      <td>0-4</td>\n",
       "    </tr>\n",
       "  </tbody>\n",
       "</table>\n",
       "</div>"
      ],
      "text/plain": [
       "          session_id  index  elapsed_time      event_name   name  level  page  \\\n",
       "0  20090312431273200      0             0  cutscene_click  basic      0   NaN   \n",
       "1  20090312431273200      1          1323    person_click  basic      0   NaN   \n",
       "2  20090312431273200      2           831    person_click  basic      0   NaN   \n",
       "3  20090312431273200      3          1147    person_click  basic      0   NaN   \n",
       "4  20090312431273200      4          1863    person_click  basic      0   NaN   \n",
       "\n",
       "   room_coor_x  room_coor_y  screen_coor_x  screen_coor_y  hover_duration  \\\n",
       "0  -413.991405  -159.314686          380.0          494.0             NaN   \n",
       "1  -413.991405  -159.314686          380.0          494.0             NaN   \n",
       "2  -413.991405  -159.314686          380.0          494.0             NaN   \n",
       "3  -413.991405  -159.314686          380.0          494.0             NaN   \n",
       "4  -412.991405  -159.314686          381.0          494.0             NaN   \n",
       "\n",
       "                            text    fqid                       room_fqid  \\\n",
       "0                      undefined   intro  tunic.historicalsociety.closet   \n",
       "1  Whatcha doing over there, Jo?  gramps  tunic.historicalsociety.closet   \n",
       "2         Just talking to Teddy.  gramps  tunic.historicalsociety.closet   \n",
       "3     I gotta run to my meeting!  gramps  tunic.historicalsociety.closet   \n",
       "4            Can I come, Gramps?  gramps  tunic.historicalsociety.closet   \n",
       "\n",
       "                                           text_fqid  fullscreen  hq  music  \\\n",
       "0               tunic.historicalsociety.closet.intro         NaN NaN    NaN   \n",
       "1  tunic.historicalsociety.closet.gramps.intro_0_...         NaN NaN    NaN   \n",
       "2  tunic.historicalsociety.closet.gramps.intro_0_...         NaN NaN    NaN   \n",
       "3  tunic.historicalsociety.closet.gramps.intro_0_...         NaN NaN    NaN   \n",
       "4  tunic.historicalsociety.closet.gramps.intro_0_...         NaN NaN    NaN   \n",
       "\n",
       "  level_group  \n",
       "0         0-4  \n",
       "1         0-4  \n",
       "2         0-4  \n",
       "3         0-4  \n",
       "4         0-4  "
      ]
     },
     "execution_count": 3,
     "metadata": {},
     "output_type": "execute_result"
    }
   ],
   "source": [
    "df.head()"
   ]
  },
  {
   "cell_type": "code",
   "execution_count": 4,
   "metadata": {},
   "outputs": [
    {
     "data": {
      "text/html": [
       "<div>\n",
       "<style scoped>\n",
       "    .dataframe tbody tr th:only-of-type {\n",
       "        vertical-align: middle;\n",
       "    }\n",
       "\n",
       "    .dataframe tbody tr th {\n",
       "        vertical-align: top;\n",
       "    }\n",
       "\n",
       "    .dataframe thead th {\n",
       "        text-align: right;\n",
       "    }\n",
       "</style>\n",
       "<table border=\"1\" class=\"dataframe\">\n",
       "  <thead>\n",
       "    <tr style=\"text-align: right;\">\n",
       "      <th></th>\n",
       "      <th>session_id</th>\n",
       "      <th>index</th>\n",
       "      <th>elapsed_time</th>\n",
       "      <th>level</th>\n",
       "      <th>page</th>\n",
       "      <th>room_coor_x</th>\n",
       "      <th>room_coor_y</th>\n",
       "      <th>screen_coor_x</th>\n",
       "      <th>screen_coor_y</th>\n",
       "      <th>hover_duration</th>\n",
       "      <th>fullscreen</th>\n",
       "      <th>hq</th>\n",
       "      <th>music</th>\n",
       "    </tr>\n",
       "  </thead>\n",
       "  <tbody>\n",
       "    <tr>\n",
       "      <th>count</th>\n",
       "      <td>1.317421e+07</td>\n",
       "      <td>1.317421e+07</td>\n",
       "      <td>1.317421e+07</td>\n",
       "      <td>1.317421e+07</td>\n",
       "      <td>284746.000000</td>\n",
       "      <td>1.213797e+07</td>\n",
       "      <td>1.213797e+07</td>\n",
       "      <td>1.213797e+07</td>\n",
       "      <td>1.213797e+07</td>\n",
       "      <td>1.000737e+06</td>\n",
       "      <td>0.0</td>\n",
       "      <td>0.0</td>\n",
       "      <td>0.0</td>\n",
       "    </tr>\n",
       "    <tr>\n",
       "      <th>mean</th>\n",
       "      <td>2.113413e+16</td>\n",
       "      <td>6.526426e+02</td>\n",
       "      <td>3.846817e+06</td>\n",
       "      <td>1.219194e+01</td>\n",
       "      <td>3.157930</td>\n",
       "      <td>-5.493615e+01</td>\n",
       "      <td>-1.162997e+02</td>\n",
       "      <td>4.581144e+02</td>\n",
       "      <td>3.852363e+02</td>\n",
       "      <td>3.186237e+03</td>\n",
       "      <td>NaN</td>\n",
       "      <td>NaN</td>\n",
       "      <td>NaN</td>\n",
       "    </tr>\n",
       "    <tr>\n",
       "      <th>std</th>\n",
       "      <td>5.665220e+14</td>\n",
       "      <td>6.275818e+02</td>\n",
       "      <td>2.701387e+07</td>\n",
       "      <td>6.499188e+00</td>\n",
       "      <td>2.064042</td>\n",
       "      <td>5.201468e+02</td>\n",
       "      <td>2.185912e+02</td>\n",
       "      <td>2.472144e+02</td>\n",
       "      <td>1.292879e+02</td>\n",
       "      <td>3.692265e+05</td>\n",
       "      <td>NaN</td>\n",
       "      <td>NaN</td>\n",
       "      <td>NaN</td>\n",
       "    </tr>\n",
       "    <tr>\n",
       "      <th>min</th>\n",
       "      <td>2.009031e+16</td>\n",
       "      <td>0.000000e+00</td>\n",
       "      <td>0.000000e+00</td>\n",
       "      <td>0.000000e+00</td>\n",
       "      <td>0.000000</td>\n",
       "      <td>-1.992355e+03</td>\n",
       "      <td>-9.181587e+02</td>\n",
       "      <td>0.000000e+00</td>\n",
       "      <td>0.000000e+00</td>\n",
       "      <td>0.000000e+00</td>\n",
       "      <td>NaN</td>\n",
       "      <td>NaN</td>\n",
       "      <td>NaN</td>\n",
       "    </tr>\n",
       "    <tr>\n",
       "      <th>25%</th>\n",
       "      <td>2.101031e+16</td>\n",
       "      <td>2.890000e+02</td>\n",
       "      <td>4.394300e+05</td>\n",
       "      <td>6.000000e+00</td>\n",
       "      <td>1.000000</td>\n",
       "      <td>-3.529376e+02</td>\n",
       "      <td>-2.128361e+02</td>\n",
       "      <td>2.690000e+02</td>\n",
       "      <td>3.040000e+02</td>\n",
       "      <td>1.000000e+02</td>\n",
       "      <td>NaN</td>\n",
       "      <td>NaN</td>\n",
       "      <td>NaN</td>\n",
       "    </tr>\n",
       "    <tr>\n",
       "      <th>50%</th>\n",
       "      <td>2.104022e+16</td>\n",
       "      <td>5.960000e+02</td>\n",
       "      <td>1.013425e+06</td>\n",
       "      <td>1.300000e+01</td>\n",
       "      <td>3.000000</td>\n",
       "      <td>-1.116317e+01</td>\n",
       "      <td>-9.778151e+01</td>\n",
       "      <td>4.470000e+02</td>\n",
       "      <td>3.970000e+02</td>\n",
       "      <td>4.180000e+02</td>\n",
       "      <td>NaN</td>\n",
       "      <td>NaN</td>\n",
       "      <td>NaN</td>\n",
       "    </tr>\n",
       "    <tr>\n",
       "      <th>75%</th>\n",
       "      <td>2.110051e+16</td>\n",
       "      <td>8.970000e+02</td>\n",
       "      <td>1.740050e+06</td>\n",
       "      <td>1.800000e+01</td>\n",
       "      <td>5.000000</td>\n",
       "      <td>2.963618e+02</td>\n",
       "      <td>2.268531e+01</td>\n",
       "      <td>6.630000e+02</td>\n",
       "      <td>4.710000e+02</td>\n",
       "      <td>1.266000e+03</td>\n",
       "      <td>NaN</td>\n",
       "      <td>NaN</td>\n",
       "      <td>NaN</td>\n",
       "    </tr>\n",
       "    <tr>\n",
       "      <th>max</th>\n",
       "      <td>2.210022e+16</td>\n",
       "      <td>2.047300e+04</td>\n",
       "      <td>1.749293e+09</td>\n",
       "      <td>2.200000e+01</td>\n",
       "      <td>6.000000</td>\n",
       "      <td>1.261774e+03</td>\n",
       "      <td>5.436164e+02</td>\n",
       "      <td>1.916000e+03</td>\n",
       "      <td>1.439000e+03</td>\n",
       "      <td>2.199078e+08</td>\n",
       "      <td>NaN</td>\n",
       "      <td>NaN</td>\n",
       "      <td>NaN</td>\n",
       "    </tr>\n",
       "  </tbody>\n",
       "</table>\n",
       "</div>"
      ],
      "text/plain": [
       "         session_id         index  elapsed_time         level           page  \\\n",
       "count  1.317421e+07  1.317421e+07  1.317421e+07  1.317421e+07  284746.000000   \n",
       "mean   2.113413e+16  6.526426e+02  3.846817e+06  1.219194e+01       3.157930   \n",
       "std    5.665220e+14  6.275818e+02  2.701387e+07  6.499188e+00       2.064042   \n",
       "min    2.009031e+16  0.000000e+00  0.000000e+00  0.000000e+00       0.000000   \n",
       "25%    2.101031e+16  2.890000e+02  4.394300e+05  6.000000e+00       1.000000   \n",
       "50%    2.104022e+16  5.960000e+02  1.013425e+06  1.300000e+01       3.000000   \n",
       "75%    2.110051e+16  8.970000e+02  1.740050e+06  1.800000e+01       5.000000   \n",
       "max    2.210022e+16  2.047300e+04  1.749293e+09  2.200000e+01       6.000000   \n",
       "\n",
       "        room_coor_x   room_coor_y  screen_coor_x  screen_coor_y  \\\n",
       "count  1.213797e+07  1.213797e+07   1.213797e+07   1.213797e+07   \n",
       "mean  -5.493615e+01 -1.162997e+02   4.581144e+02   3.852363e+02   \n",
       "std    5.201468e+02  2.185912e+02   2.472144e+02   1.292879e+02   \n",
       "min   -1.992355e+03 -9.181587e+02   0.000000e+00   0.000000e+00   \n",
       "25%   -3.529376e+02 -2.128361e+02   2.690000e+02   3.040000e+02   \n",
       "50%   -1.116317e+01 -9.778151e+01   4.470000e+02   3.970000e+02   \n",
       "75%    2.963618e+02  2.268531e+01   6.630000e+02   4.710000e+02   \n",
       "max    1.261774e+03  5.436164e+02   1.916000e+03   1.439000e+03   \n",
       "\n",
       "       hover_duration  fullscreen   hq  music  \n",
       "count    1.000737e+06         0.0  0.0    0.0  \n",
       "mean     3.186237e+03         NaN  NaN    NaN  \n",
       "std      3.692265e+05         NaN  NaN    NaN  \n",
       "min      0.000000e+00         NaN  NaN    NaN  \n",
       "25%      1.000000e+02         NaN  NaN    NaN  \n",
       "50%      4.180000e+02         NaN  NaN    NaN  \n",
       "75%      1.266000e+03         NaN  NaN    NaN  \n",
       "max      2.199078e+08         NaN  NaN    NaN  "
      ]
     },
     "execution_count": 4,
     "metadata": {},
     "output_type": "execute_result"
    }
   ],
   "source": [
    "df.describe()"
   ]
  },
  {
   "cell_type": "code",
   "execution_count": 5,
   "metadata": {},
   "outputs": [
    {
     "data": {
      "text/plain": [
       "Index                   128\n",
       "session_id        105393688\n",
       "index             105393688\n",
       "elapsed_time      105393688\n",
       "event_name        105393688\n",
       "name              105393688\n",
       "level             105393688\n",
       "page              105393688\n",
       "room_coor_x       105393688\n",
       "room_coor_y       105393688\n",
       "screen_coor_x     105393688\n",
       "screen_coor_y     105393688\n",
       "hover_duration    105393688\n",
       "text              105393688\n",
       "fqid              105393688\n",
       "room_fqid         105393688\n",
       "text_fqid         105393688\n",
       "fullscreen        105393688\n",
       "hq                105393688\n",
       "music             105393688\n",
       "level_group       105393688\n",
       "dtype: int64"
      ]
     },
     "execution_count": 5,
     "metadata": {},
     "output_type": "execute_result"
    }
   ],
   "source": [
    "df.memory_usage()"
   ]
  },
  {
   "cell_type": "code",
   "execution_count": 6,
   "metadata": {},
   "outputs": [
    {
     "data": {
      "text/plain": [
       "session_id               0\n",
       "index                    0\n",
       "elapsed_time             0\n",
       "event_name               0\n",
       "name                     0\n",
       "level                    0\n",
       "page              12889465\n",
       "room_coor_x        1036240\n",
       "room_coor_y        1036240\n",
       "screen_coor_x      1036240\n",
       "screen_coor_y      1036240\n",
       "hover_duration    12173474\n",
       "text               8367320\n",
       "fqid               4159648\n",
       "room_fqid                0\n",
       "text_fqid          8367266\n",
       "fullscreen        13174211\n",
       "hq                13174211\n",
       "music             13174211\n",
       "level_group              0\n",
       "dtype: int64"
      ]
     },
     "execution_count": 6,
     "metadata": {},
     "output_type": "execute_result"
    }
   ],
   "source": [
    "#Null analysis\n",
    "df.isnull().sum()"
   ]
  },
  {
   "cell_type": "code",
   "execution_count": 7,
   "metadata": {},
   "outputs": [
    {
     "data": {
      "text/plain": [
       "(13174211, 20)"
      ]
     },
     "execution_count": 7,
     "metadata": {},
     "output_type": "execute_result"
    }
   ],
   "source": [
    "df.shape"
   ]
  },
  {
   "cell_type": "code",
   "execution_count": 8,
   "metadata": {},
   "outputs": [],
   "source": [
    "#Drop full missing cols\n",
    "df2=df.drop(columns=[\"fullscreen\",\"hq\",\"music\"])\n",
    "del df"
   ]
  },
  {
   "cell_type": "code",
   "execution_count": 9,
   "metadata": {},
   "outputs": [
    {
     "data": {
      "text/html": [
       "<div>\n",
       "<style scoped>\n",
       "    .dataframe tbody tr th:only-of-type {\n",
       "        vertical-align: middle;\n",
       "    }\n",
       "\n",
       "    .dataframe tbody tr th {\n",
       "        vertical-align: top;\n",
       "    }\n",
       "\n",
       "    .dataframe thead th {\n",
       "        text-align: right;\n",
       "    }\n",
       "</style>\n",
       "<table border=\"1\" class=\"dataframe\">\n",
       "  <thead>\n",
       "    <tr style=\"text-align: right;\">\n",
       "      <th></th>\n",
       "      <th>session_id</th>\n",
       "      <th>index</th>\n",
       "      <th>elapsed_time</th>\n",
       "      <th>event_name</th>\n",
       "      <th>name</th>\n",
       "      <th>level</th>\n",
       "      <th>page</th>\n",
       "      <th>room_coor_x</th>\n",
       "      <th>room_coor_y</th>\n",
       "      <th>screen_coor_x</th>\n",
       "      <th>screen_coor_y</th>\n",
       "      <th>hover_duration</th>\n",
       "      <th>text</th>\n",
       "      <th>fqid</th>\n",
       "      <th>room_fqid</th>\n",
       "      <th>text_fqid</th>\n",
       "      <th>level_group</th>\n",
       "    </tr>\n",
       "  </thead>\n",
       "  <tbody>\n",
       "    <tr>\n",
       "      <th>941</th>\n",
       "      <td>20090312433251036</td>\n",
       "      <td>60</td>\n",
       "      <td>60743</td>\n",
       "      <td>notebook_click</td>\n",
       "      <td>open</td>\n",
       "      <td>2</td>\n",
       "      <td>0.0</td>\n",
       "      <td>-1112.320519</td>\n",
       "      <td>-518.582269</td>\n",
       "      <td>30.0</td>\n",
       "      <td>639.0</td>\n",
       "      <td>NaN</td>\n",
       "      <td>None</td>\n",
       "      <td>None</td>\n",
       "      <td>tunic.historicalsociety.entry</td>\n",
       "      <td>None</td>\n",
       "      <td>0-4</td>\n",
       "    </tr>\n",
       "    <tr>\n",
       "      <th>942</th>\n",
       "      <td>20090312433251036</td>\n",
       "      <td>61</td>\n",
       "      <td>61761</td>\n",
       "      <td>notebook_click</td>\n",
       "      <td>close</td>\n",
       "      <td>2</td>\n",
       "      <td>0.0</td>\n",
       "      <td>73.221989</td>\n",
       "      <td>428.191813</td>\n",
       "      <td>789.0</td>\n",
       "      <td>58.0</td>\n",
       "      <td>NaN</td>\n",
       "      <td>None</td>\n",
       "      <td>None</td>\n",
       "      <td>tunic.historicalsociety.entry</td>\n",
       "      <td>None</td>\n",
       "      <td>0-4</td>\n",
       "    </tr>\n",
       "    <tr>\n",
       "      <th>1079</th>\n",
       "      <td>20090312433251036</td>\n",
       "      <td>209</td>\n",
       "      <td>351064</td>\n",
       "      <td>notebook_click</td>\n",
       "      <td>open</td>\n",
       "      <td>6</td>\n",
       "      <td>1.0</td>\n",
       "      <td>-490.732665</td>\n",
       "      <td>-429.718879</td>\n",
       "      <td>61.0</td>\n",
       "      <td>629.0</td>\n",
       "      <td>NaN</td>\n",
       "      <td>None</td>\n",
       "      <td>None</td>\n",
       "      <td>tunic.historicalsociety.basement</td>\n",
       "      <td>None</td>\n",
       "      <td>5-12</td>\n",
       "    </tr>\n",
       "    <tr>\n",
       "      <th>1080</th>\n",
       "      <td>20090312433251036</td>\n",
       "      <td>210</td>\n",
       "      <td>354779</td>\n",
       "      <td>notebook_click</td>\n",
       "      <td>basic</td>\n",
       "      <td>6</td>\n",
       "      <td>1.0</td>\n",
       "      <td>-97.641756</td>\n",
       "      <td>-304.264333</td>\n",
       "      <td>343.0</td>\n",
       "      <td>539.0</td>\n",
       "      <td>NaN</td>\n",
       "      <td>None</td>\n",
       "      <td>None</td>\n",
       "      <td>tunic.historicalsociety.basement</td>\n",
       "      <td>None</td>\n",
       "      <td>5-12</td>\n",
       "    </tr>\n",
       "    <tr>\n",
       "      <th>1081</th>\n",
       "      <td>20090312433251036</td>\n",
       "      <td>211</td>\n",
       "      <td>357947</td>\n",
       "      <td>notebook_click</td>\n",
       "      <td>close</td>\n",
       "      <td>6</td>\n",
       "      <td>1.0</td>\n",
       "      <td>556.115820</td>\n",
       "      <td>342.523546</td>\n",
       "      <td>812.0</td>\n",
       "      <td>75.0</td>\n",
       "      <td>NaN</td>\n",
       "      <td>None</td>\n",
       "      <td>None</td>\n",
       "      <td>tunic.historicalsociety.basement</td>\n",
       "      <td>None</td>\n",
       "      <td>5-12</td>\n",
       "    </tr>\n",
       "  </tbody>\n",
       "</table>\n",
       "</div>"
      ],
      "text/plain": [
       "             session_id  index  elapsed_time      event_name   name  level  \\\n",
       "941   20090312433251036     60         60743  notebook_click   open      2   \n",
       "942   20090312433251036     61         61761  notebook_click  close      2   \n",
       "1079  20090312433251036    209        351064  notebook_click   open      6   \n",
       "1080  20090312433251036    210        354779  notebook_click  basic      6   \n",
       "1081  20090312433251036    211        357947  notebook_click  close      6   \n",
       "\n",
       "      page  room_coor_x  room_coor_y  screen_coor_x  screen_coor_y  \\\n",
       "941    0.0 -1112.320519  -518.582269           30.0          639.0   \n",
       "942    0.0    73.221989   428.191813          789.0           58.0   \n",
       "1079   1.0  -490.732665  -429.718879           61.0          629.0   \n",
       "1080   1.0   -97.641756  -304.264333          343.0          539.0   \n",
       "1081   1.0   556.115820   342.523546          812.0           75.0   \n",
       "\n",
       "      hover_duration  text  fqid                         room_fqid text_fqid  \\\n",
       "941              NaN  None  None     tunic.historicalsociety.entry      None   \n",
       "942              NaN  None  None     tunic.historicalsociety.entry      None   \n",
       "1079             NaN  None  None  tunic.historicalsociety.basement      None   \n",
       "1080             NaN  None  None  tunic.historicalsociety.basement      None   \n",
       "1081             NaN  None  None  tunic.historicalsociety.basement      None   \n",
       "\n",
       "     level_group  \n",
       "941          0-4  \n",
       "942          0-4  \n",
       "1079        5-12  \n",
       "1080        5-12  \n",
       "1081        5-12  "
      ]
     },
     "execution_count": 9,
     "metadata": {},
     "output_type": "execute_result"
    }
   ],
   "source": [
    "df2[~df2[\"page\"].isnull()].head()"
   ]
  },
  {
   "cell_type": "code",
   "execution_count": 10,
   "metadata": {},
   "outputs": [
    {
     "data": {
      "text/plain": [
       "array(['cutscene_click', 'person_click', 'navigate_click',\n",
       "       'observation_click', 'notification_click', 'object_click',\n",
       "       'object_hover', 'map_hover', 'map_click', 'checkpoint',\n",
       "       'notebook_click'], dtype=object)"
      ]
     },
     "execution_count": 10,
     "metadata": {},
     "output_type": "execute_result"
    }
   ],
   "source": [
    "df2[\"event_name\"].unique()"
   ]
  },
  {
   "cell_type": "code",
   "execution_count": 11,
   "metadata": {},
   "outputs": [
    {
     "data": {
      "text/plain": [
       "array(['basic', 'undefined', 'close', 'open', 'prev', 'next'],\n",
       "      dtype=object)"
      ]
     },
     "execution_count": 11,
     "metadata": {},
     "output_type": "execute_result"
    }
   ],
   "source": [
    "df2[\"name\"].unique()"
   ]
  },
  {
   "cell_type": "code",
   "execution_count": 12,
   "metadata": {},
   "outputs": [
    {
     "data": {
      "text/plain": [
       "array(['cutscene_click', 'person_click', 'navigate_click',\n",
       "       'observation_click', 'notification_click', 'object_click',\n",
       "       'object_hover', 'map_hover', 'map_click', 'checkpoint',\n",
       "       'notebook_click'], dtype=object)"
      ]
     },
     "execution_count": 12,
     "metadata": {},
     "output_type": "execute_result"
    }
   ],
   "source": [
    "df2[\"event_name\"].unique()"
   ]
  },
  {
   "cell_type": "code",
   "execution_count": 13,
   "metadata": {},
   "outputs": [
    {
     "data": {
      "text/plain": [
       "array(['0-4', '5-12', '13-22'], dtype=object)"
      ]
     },
     "execution_count": 13,
     "metadata": {},
     "output_type": "execute_result"
    }
   ],
   "source": [
    "df2[\"level_group\"].unique()"
   ]
  },
  {
   "attachments": {},
   "cell_type": "markdown",
   "metadata": {},
   "source": [
    "# Missing Analysis"
   ]
  },
  {
   "cell_type": "code",
   "execution_count": 14,
   "metadata": {},
   "outputs": [],
   "source": [
    "missing_cols=[\"page\",\"hover_duration\",\"text\",\"fqid\",\"text_fquid\"]\n",
    "coord=[\"room_coor_x\",\"room_coor_y\",\"screen_coor_x\",\"screen_coor_y\"]"
   ]
  },
  {
   "cell_type": "code",
   "execution_count": 15,
   "metadata": {},
   "outputs": [
    {
     "data": {
      "text/plain": [
       "284746"
      ]
     },
     "execution_count": 15,
     "metadata": {},
     "output_type": "execute_result"
    }
   ],
   "source": [
    "#Age trend\n",
    "page_not_missing=df2[\"page\"][~df2[\"page\"].isnull()]\n",
    "page_not_missing.size"
   ]
  },
  {
   "cell_type": "code",
   "execution_count": 16,
   "metadata": {},
   "outputs": [
    {
     "data": {
      "text/plain": [
       "<seaborn.axisgrid.FacetGrid at 0x16c66b22e80>"
      ]
     },
     "execution_count": 16,
     "metadata": {},
     "output_type": "execute_result"
    },
    {
     "data": {
      "image/png": "[encoded data removed]",
      "text/plain": [
       "<Figure size 500x500 with 1 Axes>"
      ]
     },
     "metadata": {},
     "output_type": "display_data"
    }
   ],
   "source": [
    "import seaborn as sns\n",
    "sns.displot(page_not_missing)"
   ]
  },
  {
   "cell_type": "code",
   "execution_count": 17,
   "metadata": {},
   "outputs": [
    {
     "data": {
      "text/plain": [
       "1000737"
      ]
     },
     "execution_count": 17,
     "metadata": {},
     "output_type": "execute_result"
    }
   ],
   "source": [
    "hover_duration_not_missing=df2[\"hover_duration\"][~df2[\"hover_duration\"].isnull()]\n",
    "hover_duration_not_missing.size"
   ]
  },
  {
   "cell_type": "code",
   "execution_count": 18,
   "metadata": {},
   "outputs": [
    {
     "data": {
      "text/plain": [
       "<Axes: xlabel='hover_duration', ylabel='Density'>"
      ]
     },
     "execution_count": 18,
     "metadata": {},
     "output_type": "execute_result"
    },
    {
     "data": {
      "image/png": "[encoded data removed]",
      "text/plain": [
       "<Figure size 640x480 with 1 Axes>"
      ]
     },
     "metadata": {},
     "output_type": "display_data"
    }
   ],
   "source": [
    "sns.kdeplot(hover_duration_not_missing)"
   ]
  },
  {
   "cell_type": "code",
   "execution_count": 19,
   "metadata": {},
   "outputs": [
    {
     "data": {
      "text/plain": [
       "4806891"
      ]
     },
     "execution_count": 19,
     "metadata": {},
     "output_type": "execute_result"
    }
   ],
   "source": [
    "text_not_missing=df2[\"text\"][~df2[\"text\"].isnull()]\n",
    "text_not_missing.size"
   ]
  },
  {
   "cell_type": "code",
   "execution_count": 20,
   "metadata": {},
   "outputs": [
    {
     "data": {
      "text/plain": [
       "undefined                                           178294\n",
       "\\u00f0\\u0178\\u02dc\\u0090                             24383\n",
       "Hey!                                                 23724\n",
       "I should go to the Capitol and tell Mrs. M!          20074\n",
       "This is perfect for the exhibit.                     19987\n",
       "                                                     ...  \n",
       "Sorry for the delay, Boss.                               1\n",
       "And where's your grampa?                                 1\n",
       "Who is Teddy?                                            1\n",
       "AND I know who took Teddy!                               1\n",
       "Meet me back in my office and we'll get started!         1\n",
       "Name: text, Length: 594, dtype: int64"
      ]
     },
     "execution_count": 20,
     "metadata": {},
     "output_type": "execute_result"
    }
   ],
   "source": [
    "text_not_missing.value_counts()"
   ]
  },
  {
   "cell_type": "code",
   "execution_count": 21,
   "metadata": {},
   "outputs": [
    {
     "data": {
      "text/plain": [
       "4806945"
      ]
     },
     "execution_count": 21,
     "metadata": {},
     "output_type": "execute_result"
    }
   ],
   "source": [
    "text_fqid_missing=df2[\"text_fqid\"][~df2[\"text_fqid\"].isnull()]\n",
    "text_fqid_missing.size"
   ]
  },
  {
   "cell_type": "code",
   "execution_count": 22,
   "metadata": {},
   "outputs": [
    {
     "data": {
      "text/plain": [
       "tunic.historicalsociety.cage.confrontation               333363\n",
       "tunic.wildlife.center.crane_ranger.crane                 235368\n",
       "tunic.historicalsociety.frontdesk.archivist.newspaper    214637\n",
       "tunic.historicalsociety.entry.groupconvo                 213592\n",
       "tunic.wildlife.center.wells.nodeer                       199978\n",
       "                                                          ...  \n",
       "tunic.wildlife.center.fox.concern                           111\n",
       "tunic.drycleaner.frontdesk.block_0                          106\n",
       "tunic.historicalsociety.entry.gramps.hub                     21\n",
       "tunic.humanecology.frontdesk.block_1                          8\n",
       "tunic.drycleaner.frontdesk.block_1                            3\n",
       "Name: text_fqid, Length: 126, dtype: int64"
      ]
     },
     "execution_count": 22,
     "metadata": {},
     "output_type": "execute_result"
    }
   ],
   "source": [
    "text_fqid_missing.value_counts()"
   ]
  },
  {
   "cell_type": "code",
   "execution_count": 23,
   "metadata": {},
   "outputs": [
    {
     "data": {
      "text/plain": [
       "9014563"
      ]
     },
     "execution_count": 23,
     "metadata": {},
     "output_type": "execute_result"
    }
   ],
   "source": [
    "fqid_not_missing=df2[\"fqid\"][~df2[\"fqid\"].isnull()]\n",
    "fqid_not_missing.size"
   ]
  },
  {
   "cell_type": "code",
   "execution_count": 24,
   "metadata": {},
   "outputs": [
    {
     "data": {
      "text/plain": [
       "worker           939555\n",
       "archivist        563259\n",
       "gramps           561000\n",
       "wells            394234\n",
       "toentry          392221\n",
       "                  ...  \n",
       "block_badge         854\n",
       "need_glasses        675\n",
       "block_badge_2       508\n",
       "fox                 166\n",
       "block_1              25\n",
       "Name: fqid, Length: 127, dtype: int64"
      ]
     },
     "execution_count": 24,
     "metadata": {},
     "output_type": "execute_result"
    }
   ],
   "source": [
    "fqid_not_missing.value_counts()"
   ]
  },
  {
   "cell_type": "code",
   "execution_count": 25,
   "metadata": {},
   "outputs": [],
   "source": [
    "[\"room_coor_x\",\"room_coor_y\",\"screen_coor_x\",\"screen_coor_y\"]\n",
    "X_coord=df2[\"room_coor_x\"].sample(10000)\n",
    "Y_coord=df2[\"room_coor_y\"].sample(10000)\n",
    "X_coord_2=df2[\"screen_coor_x\"].sample(10000)\n",
    "Y_coord_2=df2[\"screen_coor_y\"].sample(10000)"
   ]
  },
  {
   "cell_type": "code",
   "execution_count": 26,
   "metadata": {},
   "outputs": [
    {
     "data": {
      "text/plain": [
       "<Axes: xlabel='room_coor_x', ylabel='room_coor_y'>"
      ]
     },
     "execution_count": 26,
     "metadata": {},
     "output_type": "execute_result"
    },
    {
     "data": {
      "image/png": "[encoded data removed]",
      "text/plain": [
       "<Figure size 640x480 with 1 Axes>"
      ]
     },
     "metadata": {},
     "output_type": "display_data"
    }
   ],
   "source": [
    "sns.scatterplot(x=X_coord,y=Y_coord)"
   ]
  },
  {
   "cell_type": "code",
   "execution_count": 28,
   "metadata": {},
   "outputs": [],
   "source": [
    "# Current decision - drop all columns with missing except for coordinates. Replace with mean on the missing values and save\n",
    "# the modified dataframe\n",
    "df3=df2.drop(columns=[\"page\",\"hover_duration\",\"text\",\"text_fqid\",\"fqid\"])\n",
    "del df2\n"
   ]
  },
  {
   "cell_type": "code",
   "execution_count": 29,
   "metadata": {},
   "outputs": [
    {
     "data": {
      "text/html": [
       "<div>\n",
       "<style scoped>\n",
       "    .dataframe tbody tr th:only-of-type {\n",
       "        vertical-align: middle;\n",
       "    }\n",
       "\n",
       "    .dataframe tbody tr th {\n",
       "        vertical-align: top;\n",
       "    }\n",
       "\n",
       "    .dataframe thead th {\n",
       "        text-align: right;\n",
       "    }\n",
       "</style>\n",
       "<table border=\"1\" class=\"dataframe\">\n",
       "  <thead>\n",
       "    <tr style=\"text-align: right;\">\n",
       "      <th></th>\n",
       "      <th>session_id</th>\n",
       "      <th>index</th>\n",
       "      <th>elapsed_time</th>\n",
       "      <th>event_name</th>\n",
       "      <th>name</th>\n",
       "      <th>level</th>\n",
       "      <th>room_coor_x</th>\n",
       "      <th>room_coor_y</th>\n",
       "      <th>screen_coor_x</th>\n",
       "      <th>screen_coor_y</th>\n",
       "      <th>room_fqid</th>\n",
       "      <th>level_group</th>\n",
       "    </tr>\n",
       "  </thead>\n",
       "  <tbody>\n",
       "    <tr>\n",
       "      <th>0</th>\n",
       "      <td>20090312431273200</td>\n",
       "      <td>0</td>\n",
       "      <td>0</td>\n",
       "      <td>cutscene_click</td>\n",
       "      <td>basic</td>\n",
       "      <td>0</td>\n",
       "      <td>-413.991405</td>\n",
       "      <td>-159.314686</td>\n",
       "      <td>380.0</td>\n",
       "      <td>494.0</td>\n",
       "      <td>tunic.historicalsociety.closet</td>\n",
       "      <td>0-4</td>\n",
       "    </tr>\n",
       "    <tr>\n",
       "      <th>1</th>\n",
       "      <td>20090312431273200</td>\n",
       "      <td>1</td>\n",
       "      <td>1323</td>\n",
       "      <td>person_click</td>\n",
       "      <td>basic</td>\n",
       "      <td>0</td>\n",
       "      <td>-413.991405</td>\n",
       "      <td>-159.314686</td>\n",
       "      <td>380.0</td>\n",
       "      <td>494.0</td>\n",
       "      <td>tunic.historicalsociety.closet</td>\n",
       "      <td>0-4</td>\n",
       "    </tr>\n",
       "    <tr>\n",
       "      <th>2</th>\n",
       "      <td>20090312431273200</td>\n",
       "      <td>2</td>\n",
       "      <td>831</td>\n",
       "      <td>person_click</td>\n",
       "      <td>basic</td>\n",
       "      <td>0</td>\n",
       "      <td>-413.991405</td>\n",
       "      <td>-159.314686</td>\n",
       "      <td>380.0</td>\n",
       "      <td>494.0</td>\n",
       "      <td>tunic.historicalsociety.closet</td>\n",
       "      <td>0-4</td>\n",
       "    </tr>\n",
       "    <tr>\n",
       "      <th>3</th>\n",
       "      <td>20090312431273200</td>\n",
       "      <td>3</td>\n",
       "      <td>1147</td>\n",
       "      <td>person_click</td>\n",
       "      <td>basic</td>\n",
       "      <td>0</td>\n",
       "      <td>-413.991405</td>\n",
       "      <td>-159.314686</td>\n",
       "      <td>380.0</td>\n",
       "      <td>494.0</td>\n",
       "      <td>tunic.historicalsociety.closet</td>\n",
       "      <td>0-4</td>\n",
       "    </tr>\n",
       "    <tr>\n",
       "      <th>4</th>\n",
       "      <td>20090312431273200</td>\n",
       "      <td>4</td>\n",
       "      <td>1863</td>\n",
       "      <td>person_click</td>\n",
       "      <td>basic</td>\n",
       "      <td>0</td>\n",
       "      <td>-412.991405</td>\n",
       "      <td>-159.314686</td>\n",
       "      <td>381.0</td>\n",
       "      <td>494.0</td>\n",
       "      <td>tunic.historicalsociety.closet</td>\n",
       "      <td>0-4</td>\n",
       "    </tr>\n",
       "  </tbody>\n",
       "</table>\n",
       "</div>"
      ],
      "text/plain": [
       "          session_id  index  elapsed_time      event_name   name  level  \\\n",
       "0  20090312431273200      0             0  cutscene_click  basic      0   \n",
       "1  20090312431273200      1          1323    person_click  basic      0   \n",
       "2  20090312431273200      2           831    person_click  basic      0   \n",
       "3  20090312431273200      3          1147    person_click  basic      0   \n",
       "4  20090312431273200      4          1863    person_click  basic      0   \n",
       "\n",
       "   room_coor_x  room_coor_y  screen_coor_x  screen_coor_y  \\\n",
       "0  -413.991405  -159.314686          380.0          494.0   \n",
       "1  -413.991405  -159.314686          380.0          494.0   \n",
       "2  -413.991405  -159.314686          380.0          494.0   \n",
       "3  -413.991405  -159.314686          380.0          494.0   \n",
       "4  -412.991405  -159.314686          381.0          494.0   \n",
       "\n",
       "                        room_fqid level_group  \n",
       "0  tunic.historicalsociety.closet         0-4  \n",
       "1  tunic.historicalsociety.closet         0-4  \n",
       "2  tunic.historicalsociety.closet         0-4  \n",
       "3  tunic.historicalsociety.closet         0-4  \n",
       "4  tunic.historicalsociety.closet         0-4  "
      ]
     },
     "execution_count": 29,
     "metadata": {},
     "output_type": "execute_result"
    }
   ],
   "source": [
    "df3.head()"
   ]
  },
  {
   "cell_type": "code",
   "execution_count": 31,
   "metadata": {},
   "outputs": [],
   "source": [
    "#Missing replacement\n",
    "for i in coord:\n",
    "    mean=df3[i].mean()\n",
    "    df3[i]=df3[i].fillna(mean)"
   ]
  },
  {
   "cell_type": "code",
   "execution_count": 33,
   "metadata": {},
   "outputs": [
    {
     "data": {
      "text/plain": [
       "session_id       0\n",
       "index            0\n",
       "elapsed_time     0\n",
       "event_name       0\n",
       "name             0\n",
       "level            0\n",
       "room_coor_x      0\n",
       "room_coor_y      0\n",
       "screen_coor_x    0\n",
       "screen_coor_y    0\n",
       "room_fqid        0\n",
       "level_group      0\n",
       "dtype: int64"
      ]
     },
     "execution_count": 33,
     "metadata": {},
     "output_type": "execute_result"
    }
   ],
   "source": [
    "df3.isna().sum()"
   ]
  },
  {
   "cell_type": "code",
   "execution_count": 34,
   "metadata": {},
   "outputs": [],
   "source": [
    "#Downcasting\n",
    "#https://towardsdatascience.com/how-to-reduce-the-size-of-a-pandas-dataframe-in-python-7ed6e4269f88\n",
    "## downcasting loop\n",
    "for column in df3.columns:\n",
    " if df3[column].dtype == \"float64\":\n",
    "    df3[column]=pd.to_numeric(df3[column], downcast=\"float\")\n",
    " if df3[column].dtype == \"int64\":\n",
    "    df3[column]=pd.to_numeric(df3[column], downcast=\"integer\")"
   ]
  },
  {
   "cell_type": "code",
   "execution_count": 36,
   "metadata": {},
   "outputs": [
    {
     "data": {
      "text/plain": [
       "Index                  128\n",
       "session_id       105393688\n",
       "index             26348422\n",
       "elapsed_time      52696844\n",
       "event_name       105393688\n",
       "name             105393688\n",
       "level             13174211\n",
       "room_coor_x       52696844\n",
       "room_coor_y       52696844\n",
       "screen_coor_x     52696844\n",
       "screen_coor_y     52696844\n",
       "room_fqid        105393688\n",
       "level_group      105393688\n",
       "dtype: int64"
      ]
     },
     "execution_count": 36,
     "metadata": {},
     "output_type": "execute_result"
    }
   ],
   "source": [
    "df3.memory_usage()"
   ]
  },
  {
   "cell_type": "code",
   "execution_count": 37,
   "metadata": {},
   "outputs": [
    {
     "name": "stdout",
     "output_type": "stream",
     "text": [
      "<class 'pandas.core.frame.DataFrame'>\n",
      "RangeIndex: 13174211 entries, 0 to 13174210\n",
      "Data columns (total 12 columns):\n",
      " #   Column         Dtype  \n",
      "---  ------         -----  \n",
      " 0   session_id     int64  \n",
      " 1   index          int16  \n",
      " 2   elapsed_time   int32  \n",
      " 3   event_name     object \n",
      " 4   name           object \n",
      " 5   level          int8   \n",
      " 6   room_coor_x    float32\n",
      " 7   room_coor_y    float32\n",
      " 8   screen_coor_x  float32\n",
      " 9   screen_coor_y  float32\n",
      " 10  room_fqid      object \n",
      " 11  level_group    object \n",
      "dtypes: float32(4), int16(1), int32(1), int64(1), int8(1), object(4)\n",
      "memory usage: 791.5+ MB\n"
     ]
    }
   ],
   "source": [
    "df3.info()"
   ]
  },
  {
   "cell_type": "code",
   "execution_count": 38,
   "metadata": {},
   "outputs": [],
   "source": [
    "#Exporting to new parquet\n",
    "df3.to_parquet('../data/processed/filtered_V1.parquet')"
   ]
  }
 ],
 "metadata": {
  "kernelspec": {
   "display_name": "kaggle-env",
   "language": "python",
   "name": "python3"
  },
  "language_info": {
   "codemirror_mode": {
    "name": "ipython",
    "version": 3
   },
   "file_extension": ".py",
   "mimetype": "text/x-python",
   "name": "python",
   "nbconvert_exporter": "python",
   "pygments_lexer": "ipython3",
   "version": "3.9.7"
  },
  "orig_nbformat": 4
 },
 "nbformat": 4,
 "nbformat_minor": 2
}
